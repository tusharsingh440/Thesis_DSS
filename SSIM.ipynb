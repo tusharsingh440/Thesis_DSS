{
  "nbformat": 4,
  "nbformat_minor": 0,
  "metadata": {
    "colab": {
      "name": "SSIM.ipynb",
      "provenance": []
    },
    "kernelspec": {
      "name": "python3",
      "display_name": "Python 3"
    }
  },
  "cells": [
    {
      "cell_type": "code",
      "metadata": {
        "id": "2lbAWgiI49BI"
      },
      "source": [
        "## First load the necessary modules. \r\n",
        "\r\n",
        "import skimage\r\n",
        "from skimage.metrics import structural_similarity as ssim\r\n",
        "import matplotlib.pyplot as plt\r\n",
        "import numpy as np\r\n",
        "import cv2"
      ],
      "execution_count": 1,
      "outputs": []
    },
    {
      "cell_type": "code",
      "metadata": {
        "id": "elv3BnsmnshO"
      },
      "source": [
        "##Load the data and prep it. \r\n",
        "\r\n",
        "Cells=np.load(\"/content/drive/My Drive/Cells.npy\")\r\n",
        "labels=np.load(\"/content/drive/My Drive/labels.npy\")"
      ],
      "execution_count": null,
      "outputs": []
    },
    {
      "cell_type": "code",
      "metadata": {
        "id": "HvbVnpKynwn7"
      },
      "source": [
        "from sklearn.model_selection import train_test_split  \r\n",
        "\r\n",
        "#Stratification used for labels and split is 80/20. \r\n",
        "X_train, X_test, y_train, y_test = train_test_split(Cells, labels, test_size = 0.2)"
      ],
      "execution_count": null,
      "outputs": []
    },
    {
      "cell_type": "code",
      "metadata": {
        "id": "0TqB133wn4Ke"
      },
      "source": [
        "# Conversion from utf-8\r\n",
        "X_train = X_train.astype('float32') \r\n",
        "X_test = X_test.astype('float32') \r\n",
        "\r\n",
        "X_train = X_train/255.0\r\n",
        "X_test = X_test/255.0\r\n",
        "\r\n",
        "y_train=keras.utils.to_categorical(y_train, 2)\r\n",
        "y_test=keras.utils.to_categorical(y_test, 2)"
      ],
      "execution_count": null,
      "outputs": []
    },
    {
      "cell_type": "code",
      "metadata": {
        "id": "86Y1cNgroFWt"
      },
      "source": [
        "## Load the imports. \r\n",
        "\r\n",
        "import keras\r\n",
        "from tensorflow.keras.layers import Activation, Dropout, Flatten, Dense, Conv2D, MaxPooling2D, GlobalAveragePooling2D\r\n",
        "from tensorflow.keras import models\r\n",
        "from tensorflow.keras import layers\r\n",
        "from keras.models import load_model"
      ],
      "execution_count": null,
      "outputs": []
    },
    {
      "cell_type": "code",
      "metadata": {
        "id": "sx0HPB-Uo1ha"
      },
      "source": [
        "#Load the pretrained student and teacher model. "
      ],
      "execution_count": null,
      "outputs": []
    },
    {
      "cell_type": "code",
      "metadata": {
        "id": "EeXq8LqtoJWY"
      },
      "source": [
        "student = load_model('/content/drive/MyDrive/student.h5')"
      ],
      "execution_count": null,
      "outputs": []
    },
    {
      "cell_type": "code",
      "metadata": {
        "id": "26i103c2oYbN"
      },
      "source": [
        "teacher = load_model('/content/drive/MyDrive/teacher.h5')"
      ],
      "execution_count": null,
      "outputs": []
    },
    {
      "cell_type": "code",
      "metadata": {
        "id": "9YyC3OHhoZRg"
      },
      "source": [
        "## To check if the teacher and student have the last softmax layer activated. \r\n",
        "teacher.summary()"
      ],
      "execution_count": null,
      "outputs": []
    },
    {
      "cell_type": "code",
      "metadata": {
        "id": "XqjxTYqEoh1Q"
      },
      "source": [
        "## If not then add softmax layer and compile it. \r\n",
        "\r\n",
        "teacher.add(Activation('softmax', name='Softmax')) \r\n",
        "\r\n",
        "teacher.compile(\r\n",
        "    optimizer=keras.optimizers.Adam(),\r\n",
        "    loss=keras.losses.CategoricalCrossentropy(),\r\n",
        "    metrics=[keras.metrics.CategoricalAccuracy()],\r\n",
        ")"
      ],
      "execution_count": null,
      "outputs": []
    },
    {
      "cell_type": "code",
      "metadata": {
        "id": "_15Mc9E7ot4j"
      },
      "source": [
        "## Same for student. \r\n",
        "\r\n",
        "student.add(Activation('softmax')) \r\n",
        "student.compile(\r\n",
        "    optimizer=keras.optimizers.Adam(),\r\n",
        "    loss=keras.losses.CategoricalCrossentropy(),\r\n",
        "    metrics=[keras.metrics.CategoricalAccuracy()],\r\n",
        ")"
      ],
      "execution_count": null,
      "outputs": []
    },
    {
      "cell_type": "code",
      "metadata": {
        "id": "9Qzt6yRkozNt"
      },
      "source": [
        "IMGS = 64\r\n"
      ],
      "execution_count": null,
      "outputs": []
    },
    {
      "cell_type": "code",
      "metadata": {
        "id": "fNK5BP51pKUQ"
      },
      "source": [
        "## Setting the layers. \r\n",
        "lay = []\r\n",
        "for layer in teacher.layers:\r\n",
        "    lay.append(layer.name)\r\n",
        "    print(layer.name)"
      ],
      "execution_count": null,
      "outputs": []
    },
    {
      "cell_type": "code",
      "metadata": {
        "id": "IXysmlfipNJ1"
      },
      "source": [
        "lay_s = []\r\n",
        "for layer in student.layers:\r\n",
        "    lay_s.append(layer.name)\r\n",
        "    print(layer.name)"
      ],
      "execution_count": null,
      "outputs": []
    },
    {
      "cell_type": "code",
      "metadata": {
        "id": "vwsTyyjmpPTp"
      },
      "source": [
        "t_last_conv_layer_name = lay[4]\r\n",
        "\r\n",
        "t_classifier_layer_names = lay[5:]\r\n",
        "\r\n",
        "s_last_conv_layer_name = lay_s[2]\r\n",
        "\r\n",
        "s_classifier_layer_names = lay_s[3:]"
      ],
      "execution_count": null,
      "outputs": []
    },
    {
      "cell_type": "code",
      "metadata": {
        "id": "SDB1B05zpSpQ"
      },
      "source": [
        "## Defining the functions. \r\n",
        "\r\n",
        "def get_img_array(img_path, size):\r\n",
        "    np.seterr(divide='ignore')\r\n",
        "    img_arr = cv2.imread(img_path)\r\n",
        "    #img_arr = crop_brain_contour(img_arr, False)\r\n",
        "    img_arr = cv2.resize(img_arr, (IMGS, IMGS))\r\n",
        "    img_arr = img_arr.reshape(1, IMGS, IMGS, 3)\r\n",
        "    return img_arr"
      ],
      "execution_count": null,
      "outputs": []
    },
    {
      "cell_type": "code",
      "metadata": {
        "id": "SOj_q97upTUd"
      },
      "source": [
        "def make_gradcam_heatmap(img_array, model, last_conv_layer_name, classifier_layer_names):\r\n",
        "    # First, we create a model that maps the input image to the activations\r\n",
        "    # of the last conv layer\r\n",
        "    last_conv_layer = model.get_layer(last_conv_layer_name)\r\n",
        "    last_conv_layer_model = tf.keras.Model(model.inputs, last_conv_layer.output)\r\n",
        "\r\n",
        "    # Second, we create a model that maps the activations of the last conv\r\n",
        "    # layer to the final class predictions\r\n",
        "    classifier_input = tf.keras.Input(shape = last_conv_layer.output.shape[1:])\r\n",
        "    x = classifier_input\r\n",
        "    for layer_name in classifier_layer_names:\r\n",
        "        x = model.get_layer(layer_name)(x)\r\n",
        "\r\n",
        "    classifier_model = keras.engine.Model(classifier_input, x)\r\n",
        "\r\n",
        "    # Then, we compute the gradient of the top predicted class for our input image\r\n",
        "    # with respect to the activations of the last conv layer\r\n",
        "    with tf.GradientTape() as tape:\r\n",
        "        # Compute activations of the last conv layer and make the tape watch it\r\n",
        "\r\n",
        "        last_conv_layer_output = last_conv_layer_model(img_array)\r\n",
        "        tape.watch(last_conv_layer_output)\r\n",
        "\r\n",
        "        prop_grad = last_conv_layer_output # propagate all layers inside the tape block\r\n",
        "        for layer in classifier_layer_names[:-2]: # all massive without last element\r\n",
        "            prop_grad = model.get_layer(layer)(prop_grad)\r\n",
        "\r\n",
        "        # Compute class predictions\r\n",
        "        preds = classifier_model(last_conv_layer_output)\r\n",
        "        top_pred_index = tf.argmax(preds[0])\r\n",
        "        top_class_channel = preds[:, top_pred_index]\r\n",
        "\r\n",
        "    # This is the gradient of the top predicted class with regard to\r\n",
        "    # the output feature map of the last conv layer\r\n",
        "\r\n",
        "    grads = tape.gradient(prop_grad, last_conv_layer_output) \r\n",
        "    # This is a vector where each entry is the mean intensity of the gradient\r\n",
        "    # over a specific feature map channel\r\n",
        "    pooled_grads = tf.reduce_mean(grads, axis=(0, 1, 2))\r\n",
        "\r\n",
        "    # We multiply each channel in the feature map array\r\n",
        "    # by \"how important this channel is\" with regard to the top predicted class\r\n",
        "    last_conv_layer_output = last_conv_layer_output.numpy()[0]\r\n",
        "    pooled_grads = pooled_grads.numpy()\r\n",
        "    for i in range(pooled_grads.shape[-1]):\r\n",
        "        last_conv_layer_output[:, :, i] *= pooled_grads[i]\r\n",
        "    last_conv_layer_output = last_conv_layer_output*pooled_grads\r\n",
        "\r\n",
        "    # The channel-wise mean of the resulting feature map\r\n",
        "    # is our heatmap of class activation\r\n",
        "    heatmap = np.mean(last_conv_layer_output, axis=-1)\r\n",
        "\r\n",
        "    # For visualization purpose, we will also normalize the heatmap between 0 & 1\r\n",
        "    # heatmap = np.maximum(heatmap, 0) / np.max(heatmap)\r\n",
        "    return heatmap"
      ],
      "execution_count": null,
      "outputs": []
    },
    {
      "cell_type": "code",
      "metadata": {
        "id": "4orhhOPVpdXQ"
      },
      "source": [
        "## Defining the images. \r\n",
        "\r\n",
        "img_path1 = '/content/drive/MyDrive/Normal_cell2.png'\r\n",
        "\r\n",
        "img_path2 = '/content/drive/MyDrive/cell_181.png'"
      ],
      "execution_count": null,
      "outputs": []
    },
    {
      "cell_type": "code",
      "metadata": {
        "id": "K-FuXvaTpiwO"
      },
      "source": [
        "model_builder = teacher\r\n",
        "img_size = (IMGS, IMGS)\r\n",
        "classes = ['Infected','NORMAL']"
      ],
      "execution_count": null,
      "outputs": []
    },
    {
      "cell_type": "code",
      "metadata": {
        "id": "0yU8XKkTpmP7"
      },
      "source": [
        "img_array1 = get_img_array(img_path1, size = img_size)\r\n",
        "img_array2 = get_img_array(img_path2, size = img_size)\r\n",
        "\r\n",
        "tpreds1 = teacher.predict(img_array1)\r\n",
        "tpreds2 = teacher.predict(img_array2)\r\n",
        "\r\n",
        "spreds1 = student.predict(img_array1)\r\n",
        "spreds2 = student.predict(img_array2)\r\n",
        "\r\n",
        "print(tpreds1)\r\n",
        "print(\"Predicted:\", classes[int(np.round(teacher.predict(img_array1)[0][0]))])\r\n",
        "\r\n",
        "# Generate class activation heatmap for healthy cell\r\n",
        "heatmap1 = make_gradcam_heatmap(\r\n",
        "    img_array1, teacher, t_last_conv_layer_name, t_classifier_layer_names\r\n",
        ")\r\n",
        "# Display heatmap\r\n",
        "plt.matshow(heatmap1)\r\n",
        "plt.savefig('heatmap_teacher_healthy.png')\r\n",
        "plt.show()"
      ],
      "execution_count": null,
      "outputs": []
    },
    {
      "cell_type": "code",
      "metadata": {
        "id": "IgxRKfPvppQz"
      },
      "source": [
        "#Generate heatmap for healthy cell\r\n",
        "heatmap2 = make_gradcam_heatmap(img_array1,\r\n",
        "      student, s_last_conv_layer_name, s_classifier_layer_names)\r\n",
        "\r\n",
        "# Display heatmap\r\n",
        "plt.matshow(heatmap2)\r\n",
        "plt.savefig('heatmap_student_healthy.png')\r\n",
        "plt.show()"
      ],
      "execution_count": null,
      "outputs": []
    },
    {
      "cell_type": "code",
      "metadata": {
        "id": "WClBewYOpv4P"
      },
      "source": [
        "## Carry out SSIM, here it is done only for two images. "
      ],
      "execution_count": null,
      "outputs": []
    },
    {
      "cell_type": "code",
      "metadata": {
        "id": "yVbdrrRUpuXk"
      },
      "source": [
        "teacher_img = cv2.imread(\"/content/heatmap_teacher_healthy_8.png\")\r\n",
        "stu_img = cv2.imread(\"/content/heatmap_student_healthy_8.png\")"
      ],
      "execution_count": null,
      "outputs": []
    },
    {
      "cell_type": "code",
      "metadata": {
        "id": "pCLPZjokp1Yv"
      },
      "source": [
        "teacher_img = cv2.cvtColor(teacher_img, cv2.COLOR_BGR2GRAY)\r\n",
        "stu_img = cv2.cvtColor(stu_img, cv2.COLOR_BGR2GRAY)"
      ],
      "execution_count": null,
      "outputs": []
    },
    {
      "cell_type": "code",
      "metadata": {
        "id": "SvbtTLoKp5D2"
      },
      "source": [
        "s = ssim(teacher_img, stu_img)\r\n",
        "print(s)"
      ],
      "execution_count": null,
      "outputs": []
    }
  ]
}