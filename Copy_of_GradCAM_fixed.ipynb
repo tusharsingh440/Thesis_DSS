{
  "nbformat": 4,
  "nbformat_minor": 0,
  "metadata": {
    "colab": {
      "name": "Copy_of_GradCAM_fixed.ipynb",
      "provenance": [],
      "collapsed_sections": [],
      "include_colab_link": true
    },
    "kernelspec": {
      "name": "python3",
      "display_name": "Python 3"
    },
    "accelerator": "GPU"
  },
  "cells": [
    {
      "cell_type": "markdown",
      "metadata": {
        "id": "view-in-github",
        "colab_type": "text"
      },
      "source": [
        "<a href=\"https://colab.research.google.com/github/tusharsingh440/Thesis_DSS/blob/main/Copy_of_GradCAM_fixed.ipynb\" target=\"_parent\"><img src=\"https://colab.research.google.com/assets/colab-badge.svg\" alt=\"Open In Colab\"/></a>"
      ]
    },
    {
      "cell_type": "code",
      "metadata": {
        "id": "SEz2FvcrFyZw"
      },
      "source": [
        "import tensorflow as tf\n",
        "from tensorflow import keras\n",
        "\n",
        "import numpy as np\n",
        "import matplotlib.pyplot as plt"
      ],
      "execution_count": null,
      "outputs": []
    },
    {
      "cell_type": "code",
      "metadata": {
        "id": "AuMptZdCGqrs"
      },
      "source": [
        "Cells=np.load(\"/content/drive/My Drive/data/projKD/Копия Cells.npy\")\n",
        "labels=np.load(\"/content/drive/My Drive/data/projKD/Копия labels.npy\")"
      ],
      "execution_count": null,
      "outputs": []
    },
    {
      "cell_type": "code",
      "metadata": {
        "id": "-CP73gFPGqzI"
      },
      "source": [
        "from sklearn.model_selection import train_test_split  \n",
        "\n",
        "#Stratification used for labels and split is 80/20. \n",
        "X_train, X_test, y_train, y_test = train_test_split(Cells, labels, test_size = 0.2)"
      ],
      "execution_count": null,
      "outputs": []
    },
    {
      "cell_type": "code",
      "metadata": {
        "id": "kLRmuRYKGq5R",
        "colab": {
          "base_uri": "https://localhost:8080/"
        },
        "outputId": "d5d57c31-412b-4a95-fbbb-57b8d0127534"
      },
      "source": [
        "# Conversion from utf-8\n",
        "X_train = X_train.astype('float32') \n",
        "X_test = X_test.astype('float32') \n",
        "\n",
        "X_train = X_train/255.0\n",
        "X_test = X_test/255.0\n",
        "\n",
        "y_train=keras.utils.to_categorical(y_train, 2)\n",
        "y_test=keras.utils.to_categorical(y_test, 2)\n",
        "print(y_train.shape, X_train.shape)"
      ],
      "execution_count": null,
      "outputs": [
        {
          "output_type": "stream",
          "text": [
            "(22046, 2) (22046, 64, 64, 3)\n"
          ],
          "name": "stdout"
        }
      ]
    },
    {
      "cell_type": "code",
      "metadata": {
        "id": "OPPv_PADHDbF"
      },
      "source": [
        "import keras\n",
        "from tensorflow.keras.layers import Activation, Dropout, Flatten, Dense, Conv2D, MaxPooling2D, GlobalAveragePooling2D, Input\n",
        "from tensorflow.keras import models\n",
        "from tensorflow.keras import layers"
      ],
      "execution_count": null,
      "outputs": []
    },
    {
      "cell_type": "code",
      "metadata": {
        "id": "G2tU2UELHFwX"
      },
      "source": [
        "def get_model():\n",
        "    model = keras.Sequential()\n",
        "    model.add(Input(shape=(64,64,3), name='input'))\n",
        "    model.add(Conv2D(filters=32, kernel_size=(3,3), activation='relu',))\n",
        "    model.add(MaxPooling2D(pool_size=(2, 2)))\n",
        "    model.add(Conv2D(filters=64, kernel_size=(3,3), activation='relu',))\n",
        "    model.add(MaxPooling2D(pool_size=(2, 2)))\n",
        "    model.add(Conv2D(filters=64, kernel_size=(3,3), activation='relu',))\n",
        "    model.add(GlobalAveragePooling2D())\n",
        "    # model.add(Flatten())\n",
        "    model.add(Dense(128, activation='relu'))\n",
        "    model.add(Dropout(0.5))\n",
        "    model.add(Dense(2))\n",
        "    model.add(Activation('softmax'))      \n",
        "\n",
        "    return model\n",
        "\n",
        "teacher = get_model()"
      ],
      "execution_count": null,
      "outputs": []
    },
    {
      "cell_type": "code",
      "metadata": {
        "colab": {
          "base_uri": "https://localhost:8080/"
        },
        "id": "2_juIEOVSq2D",
        "outputId": "25f371d6-3a02-46d9-9f67-d15c434ae432"
      },
      "source": [
        "teacher.summary()"
      ],
      "execution_count": null,
      "outputs": [
        {
          "output_type": "stream",
          "text": [
            "Model: \"sequential_9\"\n",
            "_________________________________________________________________\n",
            "Layer (type)                 Output Shape              Param #   \n",
            "=================================================================\n",
            "conv2d_18 (Conv2D)           (None, 62, 62, 32)        896       \n",
            "_________________________________________________________________\n",
            "max_pooling2d_12 (MaxPooling (None, 31, 31, 32)        0         \n",
            "_________________________________________________________________\n",
            "conv2d_19 (Conv2D)           (None, 29, 29, 64)        18496     \n",
            "_________________________________________________________________\n",
            "max_pooling2d_13 (MaxPooling (None, 14, 14, 64)        0         \n",
            "_________________________________________________________________\n",
            "conv2d_20 (Conv2D)           (None, 12, 12, 64)        36928     \n",
            "_________________________________________________________________\n",
            "global_average_pooling2d_6 ( (None, 64)                0         \n",
            "_________________________________________________________________\n",
            "dense_12 (Dense)             (None, 128)               8320      \n",
            "_________________________________________________________________\n",
            "dropout_5 (Dropout)          (None, 128)               0         \n",
            "_________________________________________________________________\n",
            "dense_13 (Dense)             (None, 2)                 258       \n",
            "_________________________________________________________________\n",
            "activation_4 (Activation)    (None, 2)                 0         \n",
            "=================================================================\n",
            "Total params: 64,898\n",
            "Trainable params: 64,898\n",
            "Non-trainable params: 0\n",
            "_________________________________________________________________\n"
          ],
          "name": "stdout"
        }
      ]
    },
    {
      "cell_type": "code",
      "metadata": {
        "id": "aiXej-PqHRNu"
      },
      "source": [
        "from tensorflow.keras.callbacks import EarlyStopping\n",
        "early_stop = EarlyStopping(monitor='val_loss', patience=1)\n",
        "\n",
        "teacher.compile(\n",
        "    optimizer=keras.optimizers.Adam(),\n",
        "    loss=keras.losses.CategoricalCrossentropy(),\n",
        "    metrics=[keras.metrics.CategoricalAccuracy()],\n",
        ")"
      ],
      "execution_count": null,
      "outputs": []
    },
    {
      "cell_type": "code",
      "metadata": {
        "colab": {
          "base_uri": "https://localhost:8080/"
        },
        "id": "SxQbvv7qHWEj",
        "outputId": "475af2f4-d0cf-4b0f-e887-2e2c09e13d92"
      },
      "source": [
        "# Train and evaluate teacher on data.\n",
        "teacher.fit(X_train, y_train, batch_size=20, epochs=10, verbose=1,\n",
        "                  validation_split = 0.1, callbacks = [early_stop])\n",
        "teacher.evaluate(X_test, y_test)"
      ],
      "execution_count": null,
      "outputs": [
        {
          "output_type": "stream",
          "text": [
            "Epoch 1/10\n",
            "993/993 [==============================] - 5s 5ms/step - loss: 0.5982 - categorical_accuracy: 0.6513 - val_loss: 0.2905 - val_categorical_accuracy: 0.8916\n",
            "Epoch 2/10\n",
            "993/993 [==============================] - 4s 4ms/step - loss: 0.2295 - categorical_accuracy: 0.9235 - val_loss: 0.1815 - val_categorical_accuracy: 0.9492\n",
            "Epoch 3/10\n",
            "993/993 [==============================] - 4s 4ms/step - loss: 0.1803 - categorical_accuracy: 0.9429 - val_loss: 0.2157 - val_categorical_accuracy: 0.9238\n",
            "173/173 [==============================] - 1s 3ms/step - loss: 0.2034 - categorical_accuracy: 0.9260\n"
          ],
          "name": "stdout"
        },
        {
          "output_type": "execute_result",
          "data": {
            "text/plain": [
              "[0.20338061451911926, 0.9259796738624573]"
            ]
          },
          "metadata": {
            "tags": []
          },
          "execution_count": 244
        }
      ]
    },
    {
      "cell_type": "code",
      "metadata": {
        "id": "x1TeSK7NmQrU"
      },
      "source": [
        "IMGS = 64"
      ],
      "execution_count": null,
      "outputs": []
    },
    {
      "cell_type": "code",
      "metadata": {
        "id": "_Y5UaQntmUti"
      },
      "source": [
        "import cv2\n",
        "import matplotlib.pyplot as plt\n",
        "import matplotlib.cm as cm"
      ],
      "execution_count": null,
      "outputs": []
    },
    {
      "cell_type": "code",
      "metadata": {
        "id": "QMPaNmBikjt-",
        "colab": {
          "base_uri": "https://localhost:8080/",
          "height": 287
        },
        "outputId": "c3bf66ab-67c9-4f15-94ee-ad66bb48a842"
      },
      "source": [
        "img_arr = cv2.imread('/content/drive/MyDrive/data/projKD/cell181.png')\n",
        "# img_arr = cv2.cvtColor(img_arr, cv2.COLOR_BGR2GRAY)\n",
        "classes = ['Infected','NORMAL']\n",
        "img_arr = cv2.resize(img_arr, (IMGS, IMGS))\n",
        "plt.imshow(img_arr)\n",
        "plt.show()\n",
        "img_arr = img_arr.reshape(1, IMGS, IMGS, 3)\n",
        "print(classes[int(np.round(teacher.predict(img_arr)[0][0]))])"
      ],
      "execution_count": null,
      "outputs": [
        {
          "output_type": "display_data",
          "data": {
            "image/png": "[encoded data removed]",
            "text/plain": [
              "<Figure size 432x288 with 1 Axes>"
            ]
          },
          "metadata": {
            "tags": [],
            "needs_background": "light"
          }
        },
        {
          "output_type": "stream",
          "text": [
            "NORMAL\n"
          ],
          "name": "stdout"
        }
      ]
    },
    {
      "cell_type": "code",
      "metadata": {
        "colab": {
          "base_uri": "https://localhost:8080/"
        },
        "id": "VmSpIINjMNJ3",
        "outputId": "c7dcc21f-21d1-41d3-b2ac-3437fe7bfc53"
      },
      "source": [
        "lay = []\n",
        "for layer in teacher.layers:\n",
        "    lay.append(layer.name)\n",
        "    print(layer.name)"
      ],
      "execution_count": null,
      "outputs": [
        {
          "output_type": "stream",
          "text": [
            "conv2d_18\n",
            "max_pooling2d_12\n",
            "conv2d_19\n",
            "max_pooling2d_13\n",
            "conv2d_20\n",
            "global_average_pooling2d_6\n",
            "dense_12\n",
            "dropout_5\n",
            "dense_13\n",
            "activation_4\n"
          ],
          "name": "stdout"
        }
      ]
    },
    {
      "cell_type": "code",
      "metadata": {
        "id": "7HuQfbg-Lv5A"
      },
      "source": [
        "model_builder = teacher\n",
        "img_size = (IMGS, IMGS)\n",
        "def preprocess_input(img):\n",
        "    img_arr = cv2.imread(img)\n",
        "    #img_arr = crop_brain_contour(img_arr, False)\n",
        "    img_arr = cv2.resize(img_arr, img_size)\n",
        "    img_arr = img_arr.reshape(IMGS, IMGS, 3)\n",
        "    return img_arr\n",
        "\n",
        "def decode_prediction(prediction):\n",
        "    return classes[int(prediction[0])]\n",
        "\n",
        "last_conv_layer_name = lay[4]\n",
        "\n",
        "classifier_layer_names = lay[5:]\n",
        "\n",
        "# img_path = '/content/drive/MyDrive/infected_cell1.png'\n",
        "\n",
        "# plt.imshow(preprocess_input(img_path))\n",
        "# plt.show()"
      ],
      "execution_count": null,
      "outputs": []
    },
    {
      "cell_type": "code",
      "metadata": {
        "colab": {
          "base_uri": "https://localhost:8080/"
        },
        "id": "kDZ38o0DLGct",
        "outputId": "bc6ef838-bda2-4369-9da8-c5799ac60cbb"
      },
      "source": [
        "print(last_conv_layer_name)"
      ],
      "execution_count": null,
      "outputs": [
        {
          "output_type": "stream",
          "text": [
            "conv2d_20\n"
          ],
          "name": "stdout"
        }
      ]
    },
    {
      "cell_type": "code",
      "metadata": {
        "id": "_908L26uBdVE"
      },
      "source": [
        "def get_img_array(img_path, size):\n",
        "    np.seterr(divide='ignore')\n",
        "    img_arr = cv2.imread(img_path)\n",
        "    #img_arr = crop_brain_contour(img_arr, False)\n",
        "    img_arr = cv2.resize(img_arr, (IMGS, IMGS))\n",
        "    img_arr = img_arr.reshape(1, IMGS, IMGS, 3)\n",
        "    return img_arr"
      ],
      "execution_count": null,
      "outputs": []
    },
    {
      "cell_type": "code",
      "metadata": {
        "id": "Rwft0sF0LHPA"
      },
      "source": [
        "def make_gradcam_heatmap(img_array, model, last_conv_layer_name, classifier_layer_names):\n",
        "    # First, we create a model that maps the input image to the activations\n",
        "    # of the last conv layer\n",
        "    last_conv_layer = model.get_layer(last_conv_layer_name)\n",
        "    last_conv_layer_model = tf.keras.Model(model.inputs, last_conv_layer.output)\n",
        "\n",
        "    # Second, we create a model that maps the activations of the last conv\n",
        "    # layer to the final class predictions\n",
        "    classifier_input = tf.keras.Input(shape = last_conv_layer.output.shape[1:])\n",
        "    x = classifier_input\n",
        "    for layer_name in classifier_layer_names:\n",
        "        x = model.get_layer(layer_name)(x)\n",
        "\n",
        "    classifier_model = keras.engine.Model(classifier_input, x)\n",
        "\n",
        "    # Then, we compute the gradient of the top predicted class for our input image\n",
        "    # with respect to the activations of the last conv layer\n",
        "    with tf.GradientTape() as tape:\n",
        "        # Compute activations of the last conv layer and make the tape watch it\n",
        "\n",
        "        last_conv_layer_output = last_conv_layer_model(img_array)\n",
        "        tape.watch(last_conv_layer_output)\n",
        "\n",
        "        prop_grad = last_conv_layer_output # propagate all layers inside the tape block\n",
        "        for layer in classifier_layer_names[:-2]: # all massive without last element\n",
        "            prop_grad = model.get_layer(layer)(prop_grad)\n",
        "\n",
        "        # Compute class predictions\n",
        "        preds = classifier_model(last_conv_layer_output)\n",
        "        top_pred_index = tf.argmax(preds[0])\n",
        "        top_class_channel = preds[:, top_pred_index]\n",
        "\n",
        "    # This is the gradient of the top predicted class with regard to\n",
        "    # the output feature map of the last conv layer\n",
        "\n",
        "    grads = tape.gradient(prop_grad, last_conv_layer_output) \n",
        "    # This is a vector where each entry is the mean intensity of the gradient\n",
        "    # over a specific feature map channel\n",
        "    pooled_grads = tf.reduce_mean(grads, axis=(0, 1, 2))\n",
        "\n",
        "    # We multiply each channel in the feature map array\n",
        "    # by \"how important this channel is\" with regard to the top predicted class\n",
        "    last_conv_layer_output = last_conv_layer_output.numpy()[0]\n",
        "    pooled_grads = pooled_grads.numpy()\n",
        "    for i in range(pooled_grads.shape[-1]):\n",
        "        last_conv_layer_output[:, :, i] *= pooled_grads[i]\n",
        "    last_conv_layer_output = last_conv_layer_output*pooled_grads\n",
        "\n",
        "    # The channel-wise mean of the resulting feature map\n",
        "    # is our heatmap of class activation\n",
        "    heatmap = np.mean(last_conv_layer_output, axis=-1)\n",
        "\n",
        "    # For visualization purpose, we will also normalize the heatmap between 0 & 1\n",
        "    # heatmap = np.maximum(heatmap, 0) / np.max(heatmap)\n",
        "    return heatmap"
      ],
      "execution_count": null,
      "outputs": []
    },
    {
      "cell_type": "code",
      "metadata": {
        "id": "6VzkuA8T3DdC"
      },
      "source": [
        "img_path1 = '/content/drive/MyDrive/data/projKD/Копия normal_cell.png'\n",
        "img_path2 = '/content/drive/MyDrive/data/projKD/cell181.png'"
      ],
      "execution_count": null,
      "outputs": []
    },
    {
      "cell_type": "code",
      "metadata": {
        "colab": {
          "base_uri": "https://localhost:8080/",
          "height": 313
        },
        "id": "DM59IyDqNf-t",
        "outputId": "ae83bca3-d8db-4107-9503-ae8ca0c06df4"
      },
      "source": [
        "img_array1 = get_img_array(img_path1, size = img_size)\n",
        "img_array2 = get_img_array(img_path2, size = img_size)\n",
        "\n",
        "preds1 = teacher.predict(img_array1)\n",
        "preds2 = teacher.predict(img_array2)\n",
        "print(preds1)\n",
        "print(\"Predicted:\", classes[int(np.round(teacher.predict(img_array1)[0][0]))])\n",
        "\n",
        "# Generate class activation heatmap\n",
        "heatmap1 = make_gradcam_heatmap(\n",
        "    img_array1, teacher, last_conv_layer_name, classifier_layer_names\n",
        ")\n",
        "# Display heatmap\n",
        "plt.matshow(heatmap1)\n",
        "plt.show()\n",
        "\n",
        "# print(preds2)\n",
        "# print(\"Predicted:\", classes[int(np.round(teacher.predict(img_array2)[0][0]))])\n",
        "\n",
        "# # Generate class activation heatmap\n",
        "# heatmap2 = make_gradcam_heatmap(\n",
        "#     img_array2, teacher, last_conv_layer_name, classifier_layer_names\n",
        "# )\n",
        "# # Display heatmap\n",
        "# plt.matshow(heatmap2)\n",
        "# plt.show()"
      ],
      "execution_count": null,
      "outputs": [
        {
          "output_type": "stream",
          "text": [
            "[[0. 1.]]\n",
            "Predicted: Infected\n"
          ],
          "name": "stdout"
        },
        {
          "output_type": "display_data",
          "data": {
            "image/png": "[encoded data removed]",
            "text/plain": [
              "<Figure size 288x288 with 1 Axes>"
            ]
          },
          "metadata": {
            "tags": [],
            "needs_background": "light"
          }
        }
      ]
    },
    {
      "cell_type": "code",
      "metadata": {
        "colab": {
          "base_uri": "https://localhost:8080/",
          "height": 287
        },
        "id": "BhdAsuVMWEeK",
        "outputId": "c683356d-1ccc-44e5-cbb1-821759308c8c"
      },
      "source": [
        "plt.imshow(img_array[0])"
      ],
      "execution_count": null,
      "outputs": [
        {
          "output_type": "execute_result",
          "data": {
            "text/plain": [
              "<matplotlib.image.AxesImage at 0x7fd1a1bd1a90>"
            ]
          },
          "metadata": {
            "tags": []
          },
          "execution_count": 255
        },
        {
          "output_type": "display_data",
          "data": {
            "image/png": "[encoded data removed]",
            "text/plain": [
              "<Figure size 432x288 with 1 Axes>"
            ]
          },
          "metadata": {
            "tags": [],
            "needs_background": "light"
          }
        }
      ]
    },
    {
      "cell_type": "code",
      "metadata": {
        "colab": {
          "base_uri": "https://localhost:8080/"
        },
        "id": "-0tdMu9hU9-p",
        "outputId": "6501e909-c35c-4b6a-9937-3bdeb0a1831d"
      },
      "source": [
        "heatmap"
      ],
      "execution_count": null,
      "outputs": [
        {
          "output_type": "execute_result",
          "data": {
            "text/plain": [
              "<tf.Tensor 'Mean_15:0' shape=(14, 14) dtype=float32>"
            ]
          },
          "metadata": {
            "tags": []
          },
          "execution_count": 75
        }
      ]
    },
    {
      "cell_type": "code",
      "metadata": {
        "colab": {
          "base_uri": "https://localhost:8080/",
          "height": 307
        },
        "id": "ToFCI3LgzeSn",
        "outputId": "9572716a-2ba5-4f9d-c128-365c411fbeb9"
      },
      "source": [
        "import tensorflow\n",
        "img = tf.keras.preprocessing.image.load_img(img_path)\n",
        "img = tf.keras.preprocessing.image.img_to_array(img)\n",
        "\n",
        "# We rescale heatmap to a range 0-255\n",
        "heatmap = np.uint8(255 * heatmap)\n",
        "\n",
        "# We use jet colormap to colorize heatmap\n",
        "jet = cm.get_cmap(\"jet\")\n",
        "\n",
        "# We use RGB values of the colormap\n",
        "jet_colors = jet(np.arange(256))[:, :3]\n",
        "jet_heatmap = jet_colors[heatmap]\n",
        "\n",
        "# We create an image with RGB colorized heatmap\n",
        "jet_heatmap = tensorflow.keras.preprocessing.image.array_to_img(jet_heatmap)\n",
        "jet_heatmap = jet_heatmap.resize((img.shape[1], img.shape[0]))\n",
        "jet_heatmap = tensorflow.keras.preprocessing.image.img_to_array(jet_heatmap)\n",
        "\n",
        "# Superimpose the heatmap on original image\n",
        "superimposed_img = jet_heatmap * 0.4 + img\n",
        "superimposed_img = tensorflow.keras.preprocessing.image.array_to_img(superimposed_img)\n",
        "\n",
        "# Save the superimposed image\n",
        "save_path = \"grad_cam.jpg\"\n",
        "superimposed_img.save(save_path)\n",
        "\n",
        "# Display Grad CAM\n",
        "print(\"Predicted:\", classes[int(np.round(teacher.predict(img_arr)[0][0]))])\n",
        "plt.imshow(superimposed_img)"
      ],
      "execution_count": null,
      "outputs": [
        {
          "output_type": "stream",
          "text": [
            "Predicted: NORMAL\n"
          ],
          "name": "stdout"
        },
        {
          "output_type": "execute_result",
          "data": {
            "text/plain": [
              "<matplotlib.image.AxesImage at 0x7f679867a748>"
            ]
          },
          "metadata": {
            "tags": []
          },
          "execution_count": 109
        },
        {
          "output_type": "display_data",
          "data": {
            "image/png": "[encoded data removed]",
            "text/plain": [
              "<Figure size 432x288 with 1 Axes>"
            ]
          },
          "metadata": {
            "tags": [],
            "needs_background": "light"
          }
        }
      ]
    },
    {
      "cell_type": "code",
      "metadata": {
        "colab": {
          "base_uri": "https://localhost:8080/"
        },
        "id": "jnlE-nFn7joE",
        "outputId": "be42e436-89f1-45f3-bf45-b96a26e3dbd2"
      },
      "source": [
        "print(tf.__version__)  # for Python 3"
      ],
      "execution_count": null,
      "outputs": [
        {
          "output_type": "stream",
          "text": [
            "2.4.0\n"
          ],
          "name": "stdout"
        }
      ]
    },
    {
      "cell_type": "code",
      "metadata": {
        "id": "MngGVmASTYQ6"
      },
      "source": [
        ""
      ],
      "execution_count": null,
      "outputs": []
    }
  ]
}